{
 "cells": [
  {
   "cell_type": "markdown",
   "metadata": {},
   "source": [
    "# Day 09. Exercise 00\n",
    "# Regularization"
   ]
  },
  {
   "cell_type": "markdown",
   "metadata": {},
   "source": [
    "## 0. Imports"
   ]
  },
  {
   "cell_type": "code",
   "execution_count": 51,
   "metadata": {},
   "outputs": [],
   "source": [
    "import pandas as pd \n",
    "import matplotlib.pyplot as plt \n",
    "from sklearn.model_selection import train_test_split, StratifiedKFold\n",
    "from sklearn.linear_model import LogisticRegression\n",
    "from sklearn.metrics import accuracy_score, confusion_matrix\n",
    "from sklearn.svm import SVC\n",
    "from sklearn.tree import DecisionTreeClassifier\n",
    "from sklearn.ensemble import RandomForestClassifier\n",
    "import joblib\n",
    "import numpy as np "
   ]
  },
  {
   "cell_type": "markdown",
   "metadata": {},
   "source": [
    "## 1. Preprocessing"
   ]
  },
  {
   "cell_type": "markdown",
   "metadata": {},
   "source": [
    "1. Read the file `dayofweek.csv` that you used in the previous day to a dataframe.\n",
    "2. Using `train_test_split` with parameters `test_size=0.2`, `random_state=21` get `X_train`, `y_train`, `X_test`, `y_test`. Use the additional parameter `stratify`."
   ]
  },
  {
   "cell_type": "code",
   "execution_count": 18,
   "metadata": {},
   "outputs": [
    {
     "data": {
      "text/html": [
       "<div>\n",
       "<style scoped>\n",
       "    .dataframe tbody tr th:only-of-type {\n",
       "        vertical-align: middle;\n",
       "    }\n",
       "\n",
       "    .dataframe tbody tr th {\n",
       "        vertical-align: top;\n",
       "    }\n",
       "\n",
       "    .dataframe thead th {\n",
       "        text-align: right;\n",
       "    }\n",
       "</style>\n",
       "<table border=\"1\" class=\"dataframe\">\n",
       "  <thead>\n",
       "    <tr style=\"text-align: right;\">\n",
       "      <th></th>\n",
       "      <th>numTrials</th>\n",
       "      <th>hour</th>\n",
       "      <th>dayofweek</th>\n",
       "      <th>uid_user_0</th>\n",
       "      <th>uid_user_1</th>\n",
       "      <th>uid_user_10</th>\n",
       "      <th>uid_user_11</th>\n",
       "      <th>uid_user_12</th>\n",
       "      <th>uid_user_13</th>\n",
       "      <th>uid_user_14</th>\n",
       "      <th>...</th>\n",
       "      <th>labname_lab02</th>\n",
       "      <th>labname_lab03</th>\n",
       "      <th>labname_lab03s</th>\n",
       "      <th>labname_lab05s</th>\n",
       "      <th>labname_laba04</th>\n",
       "      <th>labname_laba04s</th>\n",
       "      <th>labname_laba05</th>\n",
       "      <th>labname_laba06</th>\n",
       "      <th>labname_laba06s</th>\n",
       "      <th>labname_project1</th>\n",
       "    </tr>\n",
       "  </thead>\n",
       "  <tbody>\n",
       "    <tr>\n",
       "      <th>0</th>\n",
       "      <td>-0.788667</td>\n",
       "      <td>-2.562352</td>\n",
       "      <td>4</td>\n",
       "      <td>0.0</td>\n",
       "      <td>0.0</td>\n",
       "      <td>0.0</td>\n",
       "      <td>0.0</td>\n",
       "      <td>0.0</td>\n",
       "      <td>0.0</td>\n",
       "      <td>0.0</td>\n",
       "      <td>...</td>\n",
       "      <td>0.0</td>\n",
       "      <td>0.0</td>\n",
       "      <td>0.0</td>\n",
       "      <td>0.0</td>\n",
       "      <td>0.0</td>\n",
       "      <td>0.0</td>\n",
       "      <td>0.0</td>\n",
       "      <td>0.0</td>\n",
       "      <td>0.0</td>\n",
       "      <td>1.0</td>\n",
       "    </tr>\n",
       "    <tr>\n",
       "      <th>1</th>\n",
       "      <td>-0.756764</td>\n",
       "      <td>-2.562352</td>\n",
       "      <td>4</td>\n",
       "      <td>0.0</td>\n",
       "      <td>0.0</td>\n",
       "      <td>0.0</td>\n",
       "      <td>0.0</td>\n",
       "      <td>0.0</td>\n",
       "      <td>0.0</td>\n",
       "      <td>0.0</td>\n",
       "      <td>...</td>\n",
       "      <td>0.0</td>\n",
       "      <td>0.0</td>\n",
       "      <td>0.0</td>\n",
       "      <td>0.0</td>\n",
       "      <td>0.0</td>\n",
       "      <td>0.0</td>\n",
       "      <td>0.0</td>\n",
       "      <td>0.0</td>\n",
       "      <td>0.0</td>\n",
       "      <td>1.0</td>\n",
       "    </tr>\n",
       "    <tr>\n",
       "      <th>2</th>\n",
       "      <td>-0.724861</td>\n",
       "      <td>-2.562352</td>\n",
       "      <td>4</td>\n",
       "      <td>0.0</td>\n",
       "      <td>0.0</td>\n",
       "      <td>0.0</td>\n",
       "      <td>0.0</td>\n",
       "      <td>0.0</td>\n",
       "      <td>0.0</td>\n",
       "      <td>0.0</td>\n",
       "      <td>...</td>\n",
       "      <td>0.0</td>\n",
       "      <td>0.0</td>\n",
       "      <td>0.0</td>\n",
       "      <td>0.0</td>\n",
       "      <td>0.0</td>\n",
       "      <td>0.0</td>\n",
       "      <td>0.0</td>\n",
       "      <td>0.0</td>\n",
       "      <td>0.0</td>\n",
       "      <td>1.0</td>\n",
       "    </tr>\n",
       "    <tr>\n",
       "      <th>3</th>\n",
       "      <td>-0.692958</td>\n",
       "      <td>-2.562352</td>\n",
       "      <td>4</td>\n",
       "      <td>0.0</td>\n",
       "      <td>0.0</td>\n",
       "      <td>0.0</td>\n",
       "      <td>0.0</td>\n",
       "      <td>0.0</td>\n",
       "      <td>0.0</td>\n",
       "      <td>0.0</td>\n",
       "      <td>...</td>\n",
       "      <td>0.0</td>\n",
       "      <td>0.0</td>\n",
       "      <td>0.0</td>\n",
       "      <td>0.0</td>\n",
       "      <td>0.0</td>\n",
       "      <td>0.0</td>\n",
       "      <td>0.0</td>\n",
       "      <td>0.0</td>\n",
       "      <td>0.0</td>\n",
       "      <td>1.0</td>\n",
       "    </tr>\n",
       "    <tr>\n",
       "      <th>4</th>\n",
       "      <td>-0.661055</td>\n",
       "      <td>-2.562352</td>\n",
       "      <td>4</td>\n",
       "      <td>0.0</td>\n",
       "      <td>0.0</td>\n",
       "      <td>0.0</td>\n",
       "      <td>0.0</td>\n",
       "      <td>0.0</td>\n",
       "      <td>0.0</td>\n",
       "      <td>0.0</td>\n",
       "      <td>...</td>\n",
       "      <td>0.0</td>\n",
       "      <td>0.0</td>\n",
       "      <td>0.0</td>\n",
       "      <td>0.0</td>\n",
       "      <td>0.0</td>\n",
       "      <td>0.0</td>\n",
       "      <td>0.0</td>\n",
       "      <td>0.0</td>\n",
       "      <td>0.0</td>\n",
       "      <td>1.0</td>\n",
       "    </tr>\n",
       "  </tbody>\n",
       "</table>\n",
       "<p>5 rows × 44 columns</p>\n",
       "</div>"
      ],
      "text/plain": [
       "   numTrials      hour  dayofweek  uid_user_0  uid_user_1  uid_user_10  \\\n",
       "0  -0.788667 -2.562352          4         0.0         0.0          0.0   \n",
       "1  -0.756764 -2.562352          4         0.0         0.0          0.0   \n",
       "2  -0.724861 -2.562352          4         0.0         0.0          0.0   \n",
       "3  -0.692958 -2.562352          4         0.0         0.0          0.0   \n",
       "4  -0.661055 -2.562352          4         0.0         0.0          0.0   \n",
       "\n",
       "   uid_user_11  uid_user_12  uid_user_13  uid_user_14  ...  labname_lab02  \\\n",
       "0          0.0          0.0          0.0          0.0  ...            0.0   \n",
       "1          0.0          0.0          0.0          0.0  ...            0.0   \n",
       "2          0.0          0.0          0.0          0.0  ...            0.0   \n",
       "3          0.0          0.0          0.0          0.0  ...            0.0   \n",
       "4          0.0          0.0          0.0          0.0  ...            0.0   \n",
       "\n",
       "   labname_lab03  labname_lab03s  labname_lab05s  labname_laba04  \\\n",
       "0            0.0             0.0             0.0             0.0   \n",
       "1            0.0             0.0             0.0             0.0   \n",
       "2            0.0             0.0             0.0             0.0   \n",
       "3            0.0             0.0             0.0             0.0   \n",
       "4            0.0             0.0             0.0             0.0   \n",
       "\n",
       "   labname_laba04s  labname_laba05  labname_laba06  labname_laba06s  \\\n",
       "0              0.0             0.0             0.0              0.0   \n",
       "1              0.0             0.0             0.0              0.0   \n",
       "2              0.0             0.0             0.0              0.0   \n",
       "3              0.0             0.0             0.0              0.0   \n",
       "4              0.0             0.0             0.0              0.0   \n",
       "\n",
       "   labname_project1  \n",
       "0               1.0  \n",
       "1               1.0  \n",
       "2               1.0  \n",
       "3               1.0  \n",
       "4               1.0  \n",
       "\n",
       "[5 rows x 44 columns]"
      ]
     },
     "execution_count": 18,
     "metadata": {},
     "output_type": "execute_result"
    }
   ],
   "source": [
    "df=pd.read_csv(\"/home/danka/bootcampDS/DS_Bootcamp.Day08.ID_886521-1/src/data/dayofweek.csv\", sep=',')\n",
    "df.head()"
   ]
  },
  {
   "cell_type": "code",
   "execution_count": 19,
   "metadata": {},
   "outputs": [],
   "source": [
    "X=df.loc[:, df.columns!='dayofweek']\n",
    "Y=df['dayofweek']"
   ]
  },
  {
   "cell_type": "code",
   "execution_count": 20,
   "metadata": {},
   "outputs": [],
   "source": [
    "X_train, X_test, Y_train, Y_test=train_test_split(X, Y, test_size=0.2, random_state=21, stratify=Y)"
   ]
  },
  {
   "cell_type": "markdown",
   "metadata": {},
   "source": [
    "## 2. Logreg regularization"
   ]
  },
  {
   "cell_type": "markdown",
   "metadata": {},
   "source": [
    "### a. Default regularization"
   ]
  },
  {
   "cell_type": "markdown",
   "metadata": {},
   "source": [
    "1. Train a baseline model with the only parameters `random_state=21`, `fit_intercept=False`.\n",
    "2. Use stratified K-fold cross-validation with `10` splits to evaluate the accuracy of the model\n",
    "\n",
    "\n",
    "The result of the code where you trained and evaluated the baseline model should be exactly like this (use `%%time` to get the info about how long it took to run the cell):\n",
    "\n",
    "```\n",
    "train -  0.62902   |   valid -  0.59259\n",
    "train -  0.64633   |   valid -  0.62963\n",
    "train -  0.63479   |   valid -  0.56296\n",
    "train -  0.65622   |   valid -  0.61481\n",
    "train -  0.63397   |   valid -  0.57778\n",
    "train -  0.64056   |   valid -  0.59259\n",
    "train -  0.64138   |   valid -  0.65926\n",
    "train -  0.65952   |   valid -  0.56296\n",
    "train -  0.64333   |   valid -  0.59701\n",
    "train -  0.63674   |   valid -  0.62687\n",
    "Average accuracy on crossval is 0.60165\n",
    "Std is 0.02943\n",
    "```"
   ]
  },
  {
   "cell_type": "code",
   "execution_count": 26,
   "metadata": {},
   "outputs": [],
   "source": [
    "def stratified_cross_val(n_splits, X_1, y_1, model):\n",
    "    folds=StratifiedKFold(n_splits=n_splits)\n",
    "    accuracy_test=[]\n",
    "    accuracy_train=[]\n",
    "\n",
    "    for train_ind, test_ind in folds.split(X_1, y_1):\n",
    "        model.fit(X_1.iloc[train_ind], y_1.iloc[train_ind])\n",
    "        predict_train=model.predict(X_1.iloc[train_ind])\n",
    "        predict_test=model.predict(X_1.iloc[test_ind])\n",
    "\n",
    "        accuracy_train.append(accuracy_score(y_1.iloc[train_ind], predict_train))\n",
    "        accuracy_test.append(accuracy_score(y_1.iloc[test_ind], predict_test))\n",
    "\n",
    "    for i in range(len(accuracy_test)):\n",
    "        print(f\"train - {accuracy_train[i]:.5f}  |  test - {accuracy_test[i]:.5f}\")\n",
    "    print(f\"Avereage accuracy in cross validation is {np.mean(accuracy_test):.5f}\")\n",
    "    print(f\"STD is {np.std(accuracy_test):.5f}\")\n"
   ]
  },
  {
   "cell_type": "code",
   "execution_count": 27,
   "metadata": {},
   "outputs": [
    {
     "name": "stdout",
     "output_type": "stream",
     "text": [
      "train - 0.62819  |  test - 0.59259\n",
      "train - 0.64716  |  test - 0.62963\n",
      "train - 0.63479  |  test - 0.57037\n",
      "train - 0.65540  |  test - 0.61481\n",
      "train - 0.63314  |  test - 0.57778\n",
      "train - 0.64056  |  test - 0.59259\n",
      "train - 0.64221  |  test - 0.65926\n",
      "train - 0.65952  |  test - 0.56296\n",
      "train - 0.64333  |  test - 0.59701\n",
      "train - 0.63591  |  test - 0.62687\n",
      "Avereage accuracy in cross validation is 0.60239\n",
      "STD is 0.02852\n",
      "CPU times: user 5.9 s, sys: 39.8 ms, total: 5.94 s\n",
      "Wall time: 785 ms\n"
     ]
    }
   ],
   "source": [
    "%%time\n",
    "model_logreg=LogisticRegression(random_state=21, fit_intercept=False)\n",
    "stratified_cross_val(10, X_train, Y_train, model_logreg)\n"
   ]
  },
  {
   "cell_type": "markdown",
   "metadata": {},
   "source": [
    "### b. Optimizing regularization parameters"
   ]
  },
  {
   "cell_type": "markdown",
   "metadata": {},
   "source": [
    "1. In the cells below try different values of penalty: `none`, `l1`, `l2` – you can change the values of solver too."
   ]
  },
  {
   "cell_type": "code",
   "execution_count": 28,
   "metadata": {},
   "outputs": [
    {
     "name": "stdout",
     "output_type": "stream",
     "text": [
      "train - 0.66612  |  test - 0.63704\n",
      "train - 0.65622  |  test - 0.65926\n",
      "train - 0.66694  |  test - 0.57778\n",
      "train - 0.66529  |  test - 0.62963\n",
      "train - 0.66777  |  test - 0.61481\n",
      "train - 0.65870  |  test - 0.57778\n",
      "train - 0.64963  |  test - 0.69630\n",
      "train - 0.68508  |  test - 0.61481\n",
      "train - 0.66392  |  test - 0.62687\n",
      "train - 0.65733  |  test - 0.60448\n",
      "Avereage accuracy in cross validation is 0.62388\n",
      "STD is 0.03392\n"
     ]
    }
   ],
   "source": [
    "model_logreg = LogisticRegression(random_state=21, fit_intercept=False, penalty=None, max_iter=1000)\n",
    "stratified_cross_val(10, X_train,Y_train, model_logreg)"
   ]
  },
  {
   "cell_type": "code",
   "execution_count": 29,
   "metadata": {},
   "outputs": [
    {
     "name": "stdout",
     "output_type": "stream",
     "text": [
      "train - 0.63726  |  test - 0.58519\n",
      "train - 0.64221  |  test - 0.61481\n",
      "train - 0.62984  |  test - 0.55556\n",
      "train - 0.64386  |  test - 0.60000\n",
      "train - 0.63232  |  test - 0.57778\n",
      "train - 0.63644  |  test - 0.57778\n",
      "train - 0.63644  |  test - 0.65926\n",
      "train - 0.65622  |  test - 0.57778\n",
      "train - 0.64580  |  test - 0.58955\n",
      "train - 0.63839  |  test - 0.62687\n",
      "Avereage accuracy in cross validation is 0.59646\n",
      "STD is 0.02848\n"
     ]
    }
   ],
   "source": [
    "model_logreg=LogisticRegression(random_state=21, fit_intercept=False,solver='saga', penalty='l1', max_iter=1000)\n",
    "stratified_cross_val(10, X_train, Y_train, model_logreg)"
   ]
  },
  {
   "cell_type": "code",
   "execution_count": 32,
   "metadata": {},
   "outputs": [
    {
     "name": "stdout",
     "output_type": "stream",
     "text": [
      "train - 0.62902  |  test - 0.59259\n",
      "train - 0.64633  |  test - 0.62963\n",
      "train - 0.63479  |  test - 0.56296\n",
      "train - 0.65622  |  test - 0.61481\n",
      "train - 0.63397  |  test - 0.57778\n",
      "train - 0.64056  |  test - 0.59259\n",
      "train - 0.64138  |  test - 0.65926\n",
      "train - 0.65952  |  test - 0.55556\n",
      "train - 0.64333  |  test - 0.59701\n",
      "train - 0.63674  |  test - 0.62687\n",
      "Avereage accuracy in cross validation is 0.60091\n",
      "STD is 0.03047\n"
     ]
    }
   ],
   "source": [
    "model_logreg=LogisticRegression(random_state=21, fit_intercept=False, solver='newton-cg', penalty='l2', max_iter=1000)\n",
    "stratified_cross_val(10, X_train, Y_train, model_logreg)"
   ]
  },
  {
   "cell_type": "markdown",
   "metadata": {},
   "source": [
    "## 3. SVM regularization"
   ]
  },
  {
   "cell_type": "markdown",
   "metadata": {},
   "source": [
    "### a. Default regularization"
   ]
  },
  {
   "cell_type": "markdown",
   "metadata": {},
   "source": [
    "1. Train a baseline model with the only parameters `probability=True`, `kernel='linear'`, `random_state=21`.\n",
    "2. Use stratified K-fold cross-validation with `10` splits to evaluate the accuracy of the model.\n",
    "3. The format of the result of the code where you trained and evaluated the baseline model should be similar to what you have got for the logreg."
   ]
  },
  {
   "cell_type": "code",
   "execution_count": 36,
   "metadata": {},
   "outputs": [
    {
     "name": "stdout",
     "output_type": "stream",
     "text": [
      "train - 0.70486  |  test - 0.65926\n",
      "train - 0.69662  |  test - 0.75556\n",
      "train - 0.69415  |  test - 0.62222\n",
      "train - 0.70239  |  test - 0.65185\n",
      "train - 0.69085  |  test - 0.65185\n",
      "train - 0.68920  |  test - 0.64444\n",
      "train - 0.69250  |  test - 0.72593\n",
      "train - 0.70074  |  test - 0.62222\n",
      "train - 0.69605  |  test - 0.61940\n",
      "train - 0.71087  |  test - 0.63433\n",
      "Avereage accuracy in cross validation is 0.65871\n",
      "STD is 0.04359\n"
     ]
    }
   ],
   "source": [
    "model_svc=SVC(probability=True, kernel='linear', random_state=21)\n",
    "stratified_cross_val(10, X_train, Y_train,model_svc)"
   ]
  },
  {
   "cell_type": "markdown",
   "metadata": {},
   "source": [
    "### b. Optimizing regularization parameters"
   ]
  },
  {
   "cell_type": "markdown",
   "metadata": {},
   "source": [
    "1. In the cells below try different values of the parameter `C`."
   ]
  },
  {
   "cell_type": "code",
   "execution_count": 39,
   "metadata": {},
   "outputs": [
    {
     "name": "stdout",
     "output_type": "stream",
     "text": [
      "train - 0.37923  |  test - 0.40000\n",
      "train - 0.37923  |  test - 0.40000\n",
      "train - 0.38417  |  test - 0.35556\n",
      "train - 0.35449  |  test - 0.36296\n",
      "train - 0.38252  |  test - 0.37037\n",
      "train - 0.38087  |  test - 0.38519\n",
      "train - 0.37923  |  test - 0.40000\n",
      "train - 0.38252  |  test - 0.37037\n",
      "train - 0.38468  |  test - 0.35075\n",
      "train - 0.38386  |  test - 0.35821\n",
      "Avereage accuracy in cross validation is 0.37534\n",
      "STD is 0.01848\n"
     ]
    }
   ],
   "source": [
    "model_svc=SVC(probability=True, kernel='linear', random_state=21, C=0.01)\n",
    "stratified_cross_val(10, X_train, Y_train,model_svc)"
   ]
  },
  {
   "cell_type": "code",
   "execution_count": 40,
   "metadata": {},
   "outputs": [
    {
     "name": "stdout",
     "output_type": "stream",
     "text": [
      "train - 0.58120  |  test - 0.55556\n",
      "train - 0.57543  |  test - 0.56296\n",
      "train - 0.57378  |  test - 0.57037\n",
      "train - 0.59275  |  test - 0.57037\n",
      "train - 0.58120  |  test - 0.54815\n",
      "train - 0.57955  |  test - 0.54815\n",
      "train - 0.57296  |  test - 0.61481\n",
      "train - 0.59192  |  test - 0.54815\n",
      "train - 0.59967  |  test - 0.52985\n",
      "train - 0.57825  |  test - 0.57463\n",
      "Avereage accuracy in cross validation is 0.56230\n",
      "STD is 0.02177\n"
     ]
    }
   ],
   "source": [
    "model_svc=SVC(probability=True, kernel='linear', random_state=21, C=0.1)\n",
    "stratified_cross_val(10, X_train, Y_train,model_svc)"
   ]
  },
  {
   "cell_type": "code",
   "execution_count": 41,
   "metadata": {},
   "outputs": [
    {
     "name": "stdout",
     "output_type": "stream",
     "text": [
      "train - 0.75021  |  test - 0.72593\n",
      "train - 0.77741  |  test - 0.82963\n",
      "train - 0.78566  |  test - 0.68148\n",
      "train - 0.76834  |  test - 0.73333\n",
      "train - 0.75185  |  test - 0.77778\n",
      "train - 0.75598  |  test - 0.68889\n",
      "train - 0.76257  |  test - 0.74074\n",
      "train - 0.77411  |  test - 0.68889\n",
      "train - 0.78254  |  test - 0.71642\n",
      "train - 0.78418  |  test - 0.69403\n",
      "Avereage accuracy in cross validation is 0.72771\n",
      "STD is 0.04417\n"
     ]
    }
   ],
   "source": [
    "model_svc=SVC(probability=True, kernel='linear', random_state=21, C=10)\n",
    "stratified_cross_val(10, X_train, Y_train,model_svc)"
   ]
  },
  {
   "cell_type": "code",
   "execution_count": 42,
   "metadata": {},
   "outputs": [
    {
     "name": "stdout",
     "output_type": "stream",
     "text": [
      "train - 0.78401  |  test - 0.74815\n",
      "train - 0.79720  |  test - 0.84444\n",
      "train - 0.80956  |  test - 0.72593\n",
      "train - 0.79060  |  test - 0.76296\n",
      "train - 0.79060  |  test - 0.77778\n",
      "train - 0.79637  |  test - 0.74815\n",
      "train - 0.78401  |  test - 0.77037\n",
      "train - 0.80462  |  test - 0.73333\n",
      "train - 0.79819  |  test - 0.70896\n",
      "train - 0.79901  |  test - 0.73881\n",
      "Avereage accuracy in cross validation is 0.75589\n",
      "STD is 0.03550\n"
     ]
    }
   ],
   "source": [
    "model_svc=SVC(probability=True, kernel='linear', random_state=21, C=100)\n",
    "stratified_cross_val(10, X_train, Y_train,model_svc)"
   ]
  },
  {
   "cell_type": "markdown",
   "metadata": {},
   "source": [
    "## 4. Tree"
   ]
  },
  {
   "cell_type": "markdown",
   "metadata": {},
   "source": [
    "### a. Default regularization"
   ]
  },
  {
   "cell_type": "markdown",
   "metadata": {},
   "source": [
    "1. Train a baseline model with the only parameter `max_depth=10` and `random_state=21`.\n",
    "2. Use stratified K-fold cross-validation with `10` splits to evaluate the accuracy of the model.\n",
    "3. The format of the result of the code where you trained and evaluated the baseline model should be similar to what you have got for the logreg."
   ]
  },
  {
   "cell_type": "code",
   "execution_count": 45,
   "metadata": {},
   "outputs": [
    {
     "name": "stdout",
     "output_type": "stream",
     "text": [
      "train - 0.81039  |  test - 0.74074\n",
      "train - 0.77741  |  test - 0.74074\n",
      "train - 0.83347  |  test - 0.70370\n",
      "train - 0.79720  |  test - 0.76296\n",
      "train - 0.82440  |  test - 0.75556\n",
      "train - 0.80379  |  test - 0.68889\n",
      "train - 0.80709  |  test - 0.76296\n",
      "train - 0.80132  |  test - 0.65926\n",
      "train - 0.80807  |  test - 0.75373\n",
      "train - 0.80478  |  test - 0.68657\n",
      "Avereage accuracy in cross validation is 0.72551\n",
      "STD is 0.03562\n"
     ]
    }
   ],
   "source": [
    "model_tree=DecisionTreeClassifier(random_state=21, max_depth=10)\n",
    "stratified_cross_val(10, X_train, Y_train, model_tree)"
   ]
  },
  {
   "cell_type": "markdown",
   "metadata": {},
   "source": [
    "### b. Optimizing regularization parameters"
   ]
  },
  {
   "cell_type": "markdown",
   "metadata": {},
   "source": [
    "1. In the cells below try different values of the parameter `max_depth`.\n",
    "2. As a bonus, play with other regularization parameters trying to find the best combination."
   ]
  },
  {
   "cell_type": "code",
   "execution_count": 46,
   "metadata": {},
   "outputs": [
    {
     "name": "stdout",
     "output_type": "stream",
     "text": [
      "train - 0.95796  |  test - 0.82222\n",
      "train - 0.93075  |  test - 0.83704\n",
      "train - 0.95631  |  test - 0.83704\n",
      "train - 0.95301  |  test - 0.86667\n",
      "train - 0.95136  |  test - 0.88889\n",
      "train - 0.94724  |  test - 0.82222\n",
      "train - 0.95466  |  test - 0.90370\n",
      "train - 0.94971  |  test - 0.87407\n",
      "train - 0.95305  |  test - 0.83582\n",
      "train - 0.94316  |  test - 0.85821\n",
      "Avereage accuracy in cross validation is 0.85459\n",
      "STD is 0.02682\n"
     ]
    }
   ],
   "source": [
    "model_tree=DecisionTreeClassifier(random_state=21, max_depth=15)\n",
    "stratified_cross_val(10, X_train, Y_train, model_tree)"
   ]
  },
  {
   "cell_type": "code",
   "execution_count": 47,
   "metadata": {},
   "outputs": [
    {
     "name": "stdout",
     "output_type": "stream",
     "text": [
      "train - 0.53998  |  test - 0.48148\n",
      "train - 0.52679  |  test - 0.52593\n",
      "train - 0.54493  |  test - 0.47407\n",
      "train - 0.54163  |  test - 0.52593\n",
      "train - 0.54493  |  test - 0.57037\n",
      "train - 0.52679  |  test - 0.51111\n",
      "train - 0.52844  |  test - 0.50370\n",
      "train - 0.53669  |  test - 0.48889\n",
      "train - 0.53624  |  test - 0.54478\n",
      "train - 0.54613  |  test - 0.46269\n",
      "Avereage accuracy in cross validation is 0.50889\n",
      "STD is 0.03190\n"
     ]
    }
   ],
   "source": [
    "model_tree=DecisionTreeClassifier(random_state=21, max_depth=4)\n",
    "stratified_cross_val(10, X_train, Y_train, model_tree)"
   ]
  },
  {
   "cell_type": "code",
   "execution_count": 49,
   "metadata": {},
   "outputs": [
    {
     "name": "stdout",
     "output_type": "stream",
     "text": [
      "train - 0.86727  |  test - 0.78519\n",
      "train - 0.86645  |  test - 0.74074\n",
      "train - 0.87716  |  test - 0.72593\n",
      "train - 0.86727  |  test - 0.82963\n",
      "train - 0.87552  |  test - 0.80741\n",
      "train - 0.86150  |  test - 0.80000\n",
      "train - 0.86810  |  test - 0.82222\n",
      "train - 0.86892  |  test - 0.74074\n",
      "train - 0.86079  |  test - 0.72388\n",
      "train - 0.86738  |  test - 0.76866\n",
      "Avereage accuracy in cross validation is 0.77444\n",
      "STD is 0.03795\n"
     ]
    }
   ],
   "source": [
    "model_tree=DecisionTreeClassifier(random_state=21, max_depth=25, min_samples_split=10, min_samples_leaf=5)\n",
    "stratified_cross_val(10, X_train, Y_train, model_tree)"
   ]
  },
  {
   "cell_type": "markdown",
   "metadata": {},
   "source": [
    "## 5. Random forest"
   ]
  },
  {
   "cell_type": "markdown",
   "metadata": {},
   "source": [
    "### a. Default regularization"
   ]
  },
  {
   "cell_type": "markdown",
   "metadata": {},
   "source": [
    "1. Train a baseline model with the only parameters `n_estimators=50`, `max_depth=14`, `random_state=21`.\n",
    "2. Use stratified K-fold cross-validation with `10` splits to evaluate the accuracy of the model.\n",
    "3. The format of the result of the code where you trained and evaluated the baseline model should be similar to what you have got for the logreg."
   ]
  },
  {
   "cell_type": "code",
   "execution_count": 52,
   "metadata": {},
   "outputs": [
    {
     "name": "stdout",
     "output_type": "stream",
     "text": [
      "train - 0.96455  |  test - 0.88148\n",
      "train - 0.96208  |  test - 0.91852\n",
      "train - 0.96785  |  test - 0.86667\n",
      "train - 0.96455  |  test - 0.89630\n",
      "train - 0.96538  |  test - 0.91111\n",
      "train - 0.96538  |  test - 0.88148\n",
      "train - 0.97115  |  test - 0.91852\n",
      "train - 0.96867  |  test - 0.85185\n",
      "train - 0.97364  |  test - 0.88060\n",
      "train - 0.97941  |  test - 0.86567\n",
      "Avereage accuracy in cross validation is 0.88722\n",
      "STD is 0.02204\n"
     ]
    }
   ],
   "source": [
    "model_rand=RandomForestClassifier(n_estimators=50, max_depth=14, random_state=21)\n",
    "stratified_cross_val(10, X_train, Y_train, model_rand)"
   ]
  },
  {
   "cell_type": "markdown",
   "metadata": {},
   "source": [
    "### b. Optimizing regularization parameters"
   ]
  },
  {
   "cell_type": "markdown",
   "metadata": {},
   "source": [
    "1. In the new cells try different values of the parameters `max_depth` and `n_estimators`.\n",
    "2. As a bonus, play with other regularization parameters trying to find the best combination."
   ]
  },
  {
   "cell_type": "code",
   "execution_count": 53,
   "metadata": {},
   "outputs": [
    {
     "name": "stdout",
     "output_type": "stream",
     "text": [
      "train - 0.86562  |  test - 0.77037\n",
      "train - 0.88293  |  test - 0.85185\n",
      "train - 0.89118  |  test - 0.80000\n",
      "train - 0.90107  |  test - 0.82963\n",
      "train - 0.87634  |  test - 0.84444\n",
      "train - 0.87716  |  test - 0.77037\n",
      "train - 0.87057  |  test - 0.81481\n",
      "train - 0.87799  |  test - 0.76296\n",
      "train - 0.88056  |  test - 0.79104\n",
      "train - 0.88056  |  test - 0.78358\n",
      "Avereage accuracy in cross validation is 0.80191\n",
      "STD is 0.03034\n"
     ]
    }
   ],
   "source": [
    "model_rand=RandomForestClassifier(n_estimators=100, max_depth=10, random_state=21)\n",
    "stratified_cross_val(10, X_train, Y_train, model_rand)"
   ]
  },
  {
   "cell_type": "code",
   "execution_count": 55,
   "metadata": {},
   "outputs": [
    {
     "name": "stdout",
     "output_type": "stream",
     "text": [
      "train - 1.00000  |  test - 0.90370\n",
      "train - 1.00000  |  test - 0.95556\n",
      "train - 1.00000  |  test - 0.89630\n",
      "train - 1.00000  |  test - 0.94074\n",
      "train - 1.00000  |  test - 0.91111\n",
      "train - 1.00000  |  test - 0.88889\n",
      "train - 1.00000  |  test - 0.92593\n",
      "train - 1.00000  |  test - 0.91111\n",
      "train - 1.00000  |  test - 0.92537\n",
      "train - 1.00000  |  test - 0.91045\n",
      "Avereage accuracy in cross validation is 0.91692\n",
      "STD is 0.01926\n"
     ]
    }
   ],
   "source": [
    "model_rand=RandomForestClassifier(n_estimators=200, max_depth=25, random_state=21)\n",
    "stratified_cross_val(10, X_train, Y_train, model_rand)"
   ]
  },
  {
   "cell_type": "code",
   "execution_count": 57,
   "metadata": {},
   "outputs": [
    {
     "name": "stdout",
     "output_type": "stream",
     "text": [
      "train - 0.87552  |  test - 0.78519\n",
      "train - 0.89613  |  test - 0.86667\n",
      "train - 0.90190  |  test - 0.82963\n",
      "train - 0.89942  |  test - 0.81481\n",
      "train - 0.88129  |  test - 0.84444\n",
      "train - 0.88376  |  test - 0.77778\n",
      "train - 0.88129  |  test - 0.85926\n",
      "train - 0.88541  |  test - 0.75556\n",
      "train - 0.88468  |  test - 0.81343\n",
      "train - 0.88056  |  test - 0.80597\n",
      "Avereage accuracy in cross validation is 0.81527\n",
      "STD is 0.03406\n"
     ]
    }
   ],
   "source": [
    "model_rand=RandomForestClassifier(n_estimators=500, max_depth=10, random_state=21)\n",
    "stratified_cross_val(10, X_train, Y_train, model_rand)"
   ]
  },
  {
   "cell_type": "code",
   "execution_count": 59,
   "metadata": {},
   "outputs": [
    {
     "name": "stdout",
     "output_type": "stream",
     "text": [
      "train - 0.99918  |  test - 0.89630\n",
      "train - 0.99918  |  test - 0.95556\n",
      "train - 0.99918  |  test - 0.89630\n",
      "train - 1.00000  |  test - 0.92593\n",
      "train - 0.99918  |  test - 0.91852\n",
      "train - 1.00000  |  test - 0.88889\n",
      "train - 1.00000  |  test - 0.92593\n",
      "train - 1.00000  |  test - 0.90370\n",
      "train - 1.00000  |  test - 0.91791\n",
      "train - 1.00000  |  test - 0.89552\n",
      "Avereage accuracy in cross validation is 0.91245\n",
      "STD is 0.01931\n"
     ]
    }
   ],
   "source": [
    "model_rand=RandomForestClassifier(n_estimators=200, max_depth=25, random_state=21, max_features=5)\n",
    "stratified_cross_val(10, X_train, Y_train, model_rand)"
   ]
  },
  {
   "cell_type": "code",
   "execution_count": 60,
   "metadata": {},
   "outputs": [
    {
     "name": "stdout",
     "output_type": "stream",
     "text": [
      "train - 1.00000  |  test - 0.91111\n",
      "train - 1.00000  |  test - 0.94815\n",
      "train - 1.00000  |  test - 0.89630\n",
      "train - 1.00000  |  test - 0.92593\n",
      "train - 1.00000  |  test - 0.92593\n",
      "train - 1.00000  |  test - 0.89630\n",
      "train - 1.00000  |  test - 0.92593\n",
      "train - 1.00000  |  test - 0.90370\n",
      "train - 1.00000  |  test - 0.93284\n",
      "train - 1.00000  |  test - 0.91791\n",
      "Avereage accuracy in cross validation is 0.91841\n",
      "STD is 0.01584\n"
     ]
    }
   ],
   "source": [
    "model_rand=RandomForestClassifier(n_estimators=200, max_depth=25, random_state=21, max_features=5, bootstrap=False)\n",
    "stratified_cross_val(10, X_train, Y_train, model_rand)"
   ]
  },
  {
   "cell_type": "markdown",
   "metadata": {},
   "source": [
    "## 6. Predictions"
   ]
  },
  {
   "cell_type": "markdown",
   "metadata": {},
   "source": [
    "1. Choose the best model and use it to make predictions for the test dataset.\n",
    "2. Calculate the final accuracy.\n",
    "3. Analyze: for which weekday your model makes the most errors (in % of the total number of samples of that class in your test dataset).\n",
    "4. Save the model."
   ]
  },
  {
   "cell_type": "code",
   "execution_count": 61,
   "metadata": {},
   "outputs": [],
   "source": [
    "model_rand=RandomForestClassifier(n_estimators=200, max_depth=15, random_state=21)\n",
    "model_rand.fit(X_train, Y_train)\n",
    "predict_forest_test=model_rand.predict(X_test)"
   ]
  },
  {
   "cell_type": "code",
   "execution_count": 62,
   "metadata": {},
   "outputs": [
    {
     "data": {
      "text/plain": [
       "0.8994082840236687"
      ]
     },
     "execution_count": 62,
     "metadata": {},
     "output_type": "execute_result"
    }
   ],
   "source": [
    "accuracy_score(Y_test, predict_forest_test)"
   ]
  },
  {
   "cell_type": "code",
   "execution_count": 63,
   "metadata": {},
   "outputs": [
    {
     "name": "stdout",
     "output_type": "stream",
     "text": [
      "Errors per weekday\n",
      "0: 25.93%\n",
      "1: 14.55%\n",
      "2: 6.67%\n",
      "3: 2.50%\n",
      "4: 14.29%\n",
      "5: 9.26%\n",
      "6: 9.86%\n"
     ]
    }
   ],
   "source": [
    "conf_matrix=confusion_matrix(Y_test, predict_forest_test)\n",
    "print('Errors per weekday')\n",
    "for i in range(7):\n",
    "    total=conf_matrix[i].sum()\n",
    "    correct=conf_matrix[i][i]\n",
    "    res_errors=total-correct\n",
    "    eror_per_class=res_errors/total*100\n",
    "    print(f'{i}: {eror_per_class:.2f}%')\n"
   ]
  },
  {
   "cell_type": "code",
   "execution_count": 64,
   "metadata": {},
   "outputs": [
    {
     "data": {
      "text/plain": [
       "['../data/random_forest_regul_model.pkl']"
      ]
     },
     "execution_count": 64,
     "metadata": {},
     "output_type": "execute_result"
    }
   ],
   "source": [
    "\n",
    "joblib.dump(model_rand, '../data/random_forest_regul_model.pkl')\n"
   ]
  }
 ],
 "metadata": {
  "kernelspec": {
   "display_name": "venv",
   "language": "python",
   "name": "python3"
  },
  "language_info": {
   "codemirror_mode": {
    "name": "ipython",
    "version": 3
   },
   "file_extension": ".py",
   "mimetype": "text/x-python",
   "name": "python",
   "nbconvert_exporter": "python",
   "pygments_lexer": "ipython3",
   "version": "3.12.3"
  }
 },
 "nbformat": 4,
 "nbformat_minor": 4
}
